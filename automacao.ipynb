{
 "cells": [
  {
   "attachments": {},
   "cell_type": "markdown",
   "metadata": {},
   "source": [
    "Importar Módulos"
   ]
  },
  {
   "cell_type": "code",
   "execution_count": null,
   "metadata": {},
   "outputs": [],
   "source": [
    "import pandas as pd\n",
    "from selenium import webdriver\n",
    "from selenium.webdriver.common.by import By\n",
    "import win32com.client as win32"
   ]
  },
  {
   "attachments": {},
   "cell_type": "markdown",
   "metadata": {},
   "source": [
    "Ler os arquivos excel e realizar tratamento de dados"
   ]
  },
  {
   "cell_type": "code",
   "execution_count": null,
   "metadata": {},
   "outputs": [],
   "source": [
    "produtos_df = pd.read_excel(r'Produtos.xlsx')\n",
    "produtos_df = produtos_df.fillna('-')\n",
    "display(produtos_df)"
   ]
  },
  {
   "attachments": {},
   "cell_type": "markdown",
   "metadata": {},
   "source": [
    "Definindo função para tratar preços dos sites"
   ]
  },
  {
   "cell_type": "code",
   "execution_count": null,
   "metadata": {},
   "outputs": [],
   "source": [
    "def tratar_texto(texto):\n",
    "    return float(texto.replace('R$', '').replace(' ', '').replace('.', '').replace(',', '.'))"
   ]
  },
  {
   "attachments": {},
   "cell_type": "markdown",
   "metadata": {},
   "source": [
    "Realizando a busca e salvando preços mais baixos na planilha do Excel"
   ]
  },
  {
   "cell_type": "code",
   "execution_count": null,
   "metadata": {},
   "outputs": [],
   "source": [
    "driver = webdriver.Chrome()\n",
    "driver.set_window_position(-10000, 0)\n",
    "\n",
    "enviar_email = False\n",
    "desconto_min = 0.2\n",
    "\n",
    "for i, linha in produtos_df.iterrows():\n",
    "    driver.get(linha['Amazon'])\n",
    "\n",
    "    try:\n",
    "        preco_amazon = driver.find_element(By.CLASS_NAME, 'a-price-whole').text\n",
    "        preco_amazon = tratar_texto(preco_amazon)\n",
    "    except:\n",
    "        print(f'Produto {linha[\"Produtos\"]} não disponível na Amazon')\n",
    "        preco_amazon = linha['Preço Original'] * 3\n",
    "\n",
    "    driver.get(linha['Magazine Luiza'])\n",
    "\n",
    "    try:\n",
    "        preco_magalu = driver.find_element(By.XPATH, '//*[@id=\"__next\"]/div/main/section[4]/div[4]/div[1]/div/div/p[2]').text\n",
    "        preco_magalu = tratar_texto(preco_magalu)\n",
    "    except:\n",
    "        print(f'Produto {linha[\"Produtos\"]} não disponível na Magazine Luiza')\n",
    "        preco_magalu = linha['Preço Original'] * 3\n",
    "    \n",
    "    preco_original = linha['Preço Original']\n",
    "    \n",
    "    lista_precos =[(preco_amazon, 'Amazon'), (preco_magalu, 'Magazine Luiza'), (preco_original, 'Preço Original')]\n",
    "    lista_precos.sort()\n",
    "    \n",
    "    produtos_df.loc[i, 'Preço Atual'] = lista_precos[0][0]\n",
    "    produtos_df.loc[i, 'Local'] = lista_precos[0][1]\n",
    "\n",
    "    if lista_precos[0][0] <= preco_original * (1 - desconto_min):\n",
    "        enviar_email = True\n",
    "    \n",
    "produtos_df.to_excel('Produtos.xlsx')\n",
    "\n",
    "driver.quit()"
   ]
  },
  {
   "attachments": {},
   "cell_type": "markdown",
   "metadata": {},
   "source": [
    "Enviando e-mail com as informações de desconto (se houver)"
   ]
  },
  {
   "cell_type": "code",
   "execution_count": null,
   "metadata": {},
   "outputs": [],
   "source": [
    "outlook = win32.Dispatch('outlook.application')\n",
    "\n",
    "if enviar_email:\n",
    "    mail = outlook.CreateItem(0)\n",
    "    mail.To = 'youremail@gmail.com'\n",
    "    mail.Subject = f'Produto(s) encontrado(s) com mais de {desconto_min:.0%}% de Desconto'\n",
    "    \n",
    "    df_filtrada = produtos_df.loc[produtos_df['Preço Atual'] <= produtos_df['Preço Original'] * (1-desconto_min), :]\n",
    "    \n",
    "    mail.HTMLBody =  f'<p>Esses sãos os produtos com mais de {desconto_min:.0%}% de desconto</p>{df_filtrada.to_html()}'\n",
    "    \n",
    "    \n",
    "    mail.Send()"
   ]
  }
 ],
 "metadata": {
  "kernelspec": {
   "display_name": "Python 3",
   "language": "python",
   "name": "python3"
  },
  "language_info": {
   "codemirror_mode": {
    "name": "ipython",
    "version": 3
   },
   "file_extension": ".py",
   "mimetype": "text/x-python",
   "name": "python",
   "nbconvert_exporter": "python",
   "pygments_lexer": "ipython3",
   "version": "3.10.5"
  },
  "orig_nbformat": 4,
  "vscode": {
   "interpreter": {
    "hash": "8743b28cd03cabdedeb39d267bc6f34b73ef2136d9004f5519cd65e6b89ffc22"
   }
  }
 },
 "nbformat": 4,
 "nbformat_minor": 2
}
